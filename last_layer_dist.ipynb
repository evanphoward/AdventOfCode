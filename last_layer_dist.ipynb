{
  "nbformat": 4,
  "nbformat_minor": 0,
  "metadata": {
    "colab": {
      "provenance": [],
      "include_colab_link": true
    },
    "kernelspec": {
      "name": "python3",
      "display_name": "Python 3"
    },
    "language_info": {
      "name": "python"
    },
    "accelerator": "GPU",
    "gpuClass": "standard"
  },
  "cells": [
    {
      "cell_type": "markdown",
      "metadata": {
        "id": "view-in-github",
        "colab_type": "text"
      },
      "source": [
        "<a href=\"https://colab.research.google.com/github/evanphoward/AdventOfCode/blob/main/last_layer_dist.ipynb\" target=\"_parent\"><img src=\"https://colab.research.google.com/assets/colab-badge.svg\" alt=\"Open In Colab\"/></a>"
      ]
    },
    {
      "cell_type": "code",
      "execution_count": null,
      "metadata": {
        "id": "Oqo-bkltxPN7"
      },
      "outputs": [],
      "source": [
        "\n",
        "# Imports\n",
        "import torch\n",
        "import torch.nn as nn\n",
        "import torchvision\n",
        "import torchvision.transforms as transforms\n",
        "import numpy as np\n",
        "import requests"
      ]
    },
    {
      "cell_type": "code",
      "source": [
        "MNIST = True\n",
        "TRAIN = False"
      ],
      "metadata": {
        "id": "js1KIMI4xj23"
      },
      "execution_count": null,
      "outputs": []
    },
    {
      "cell_type": "code",
      "source": [
        "def conv_block(in_channels, out_channels, kernel_size=3, stride=1,\n",
        "               padding=1):\n",
        "    '''\n",
        "    A nn.Sequential layer executes its arguments in sequential order. In\n",
        "    this case, it performs Conv2d -> BatchNorm2d -> ReLU. This is a typical\n",
        "    block of layers used in Convolutional Neural Networks (CNNs). The \n",
        "    ConvNet implementation below stacks multiple instances of this three layer\n",
        "    pattern in order to achieve over 90% classification accuracy on CIFAR-10.\n",
        "    '''\n",
        "    return nn.Sequential(\n",
        "        nn.Conv2d(in_channels, out_channels, kernel_size, stride, padding,\n",
        "                  bias=False),\n",
        "        nn.BatchNorm2d(out_channels),\n",
        "        nn.ReLU(inplace=True)\n",
        "        )\n",
        "\n",
        "class ConvNet(nn.Module):\n",
        "    '''\n",
        "    A 9 layer CNN using the conv_block function above. Again, we use a\n",
        "    nn.Sequential layer to build the entire model. The Conv2d layers get\n",
        "    progressively larger (more filters) as the model gets deeper. This \n",
        "    corresponds to spatial resolution getting smaller (via the stride=2 blocks),\n",
        "    going from 32x32 -> 16x16 -> 8x8. The nn.AdaptiveAvgPool2d layer at the end\n",
        "    of the model reduces the spatial resolution from 8x8 to 1x1 using a simple\n",
        "    average across all the pixels in each channel. This is then fed to the \n",
        "    single fully connected (linear) layer called classifier, which is the output\n",
        "    prediction of the model.\n",
        "    '''\n",
        "    def __init__(self):\n",
        "        super(ConvNet, self).__init__()\n",
        "        self.model = nn.Sequential(\n",
        "            conv_block(1 if MNIST else 3, 32),\n",
        "            conv_block(32, 32),\n",
        "            conv_block(32, 64, stride=2),\n",
        "            conv_block(64, 64),\n",
        "            conv_block(64, 64),\n",
        "            conv_block(64, 128, stride=2),\n",
        "            conv_block(128, 128),\n",
        "            conv_block(128, 256),\n",
        "            conv_block(256, 256),\n",
        "            nn.AdaptiveAvgPool2d(1)\n",
        "            )\n",
        "\n",
        "        self.classifier = nn.Linear(256, 10)\n",
        "\n",
        "    def forward(self, x):\n",
        "        '''\n",
        "        The forward function is called automatically by the model when it is\n",
        "        given an input image. It first applies the 8 convolution layers, then\n",
        "        finally the single classifier layer.\n",
        "        '''\n",
        "        h = self.model(x)\n",
        "        B, C, _, _ = h.shape\n",
        "        h = h.view(B, C)\n",
        "        return self.classifier(h)\n"
      ],
      "metadata": {
        "id": "YB46VR_OxmJl"
      },
      "execution_count": null,
      "outputs": []
    },
    {
      "cell_type": "code",
      "source": [
        "model = ConvNet()\n",
        "if MNIST:\n",
        "  model.load_state_dict(torch.load(\"mnist_weights.pt\"))\n",
        "  np.save(\"mnist_classifier_weights.npy\", model.classifier.weight.detach().numpy())\n",
        "else:\n",
        "  model.load_state_dict(torch.load(\"cifar_weights.pt\"))\n",
        "  np.save(\"cifar_classifier_weights.npy\", model.classifier.weight.detach().numpy())"
      ],
      "metadata": {
        "id": "6MYRmumGxy9A"
      },
      "execution_count": null,
      "outputs": []
    },
    {
      "cell_type": "code",
      "source": [
        "NUM_DATA_PTS = 10000\n",
        "if MNIST:\n",
        "  transform = transforms.Compose([                                           \n",
        "    transforms.ToTensor(),\n",
        "    transforms.Normalize((0.1307), (0.3081)),\n",
        "  ])\n",
        "  dataset = torchvision.datasets.MNIST(root='./data', train=TRAIN, download=True, transform=transform)\n",
        "else:\n",
        "  transform = transforms.Compose([                                           \n",
        "    transforms.ToTensor(),\n",
        "    transforms.Normalize((0.4914, 0.4822, 0.4465), (0.2023, 0.1994, 0.2010)),\n",
        "  ])\n",
        "  dataset = torchvision.datasets.CIFAR10(root='./data', train=TRAIN, download=True, transform=transform)\n",
        "dataloader = torch.utils.data.DataLoader(torch.utils.data.Subset(dataset, range(NUM_DATA_PTS)), batch_size=NUM_DATA_PTS, num_workers=2)\n",
        "\n",
        "model.classifier = nn.Identity()\n",
        "model.eval()\n",
        "\n",
        "with torch.no_grad():\n",
        "  last_layer_inputs = []\n",
        "  ground_truth_labels = []\n",
        "  for inputs, targets in dataloader:\n",
        "    last_layer_inputs.extend(model(inputs))\n",
        "    ground_truth_labels.extend(targets)\n",
        "\n",
        "  last_layer_inputs_tensor = torch.Tensor(len(last_layer_inputs), len(last_layer_inputs[0]))\n",
        "  for i, last_layer_input in enumerate(last_layer_inputs):\n",
        "    last_layer_inputs_tensor[i] = last_layer_input"
      ],
      "metadata": {
        "id": "TKJzYDM_x2Kb"
      },
      "execution_count": null,
      "outputs": []
    },
    {
      "cell_type": "code",
      "source": [
        "if MNIST:\n",
        "  np.save(\"mnist_input_values.npy\" if TRAIN else \"mnist_input_values_test.npy\", last_layer_inputs_tensor.numpy())\n",
        "  np.save(\"mnist_ground_labels.npy\" if TRAIN else \"mnist_ground_labels_test.npy\", np.array(ground_truth_labels))\n",
        "else:\n",
        "  np.save(\"cifar_input_values.npy\" if TRAIN else \"cifar_input_values_test.npy\", last_layer_inputs_tensor.numpy())\n",
        "  np.save(\"cifar_ground_labels.npy\" if TRAIN else \"cifar_ground_labels_test.npy\", np.array(ground_truth_labels))"
      ],
      "metadata": {
        "id": "EV2IfwinyDDj"
      },
      "execution_count": null,
      "outputs": []
    },
    {
      "cell_type": "code",
      "source": [],
      "metadata": {
        "id": "66h63D1hzwGI"
      },
      "execution_count": null,
      "outputs": []
    },
    {
      "cell_type": "code",
      "source": [],
      "metadata": {
        "id": "MWwiAfMu-haV"
      },
      "execution_count": null,
      "outputs": []
    }
  ]
}